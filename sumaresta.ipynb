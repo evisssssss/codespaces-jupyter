{
 "cells": [
  {
   "cell_type": "code",
   "execution_count": 8,
   "metadata": {},
   "outputs": [
    {
     "name": "stdout",
     "output_type": "stream",
     "text": [
      "False\n",
      "4200.0\n"
     ]
    }
   ],
   "source": [
    "numero1=float(input(\"1er número\"))\n",
    "numero2=float(input(\"2do número\"))\n",
    "print (numero1>numero2)\n",
    "if numero1>numero2:\n",
    "    print(numero1+numero2)\n",
    "else:\n",
    "    print (numero1*numero2)\n"
   ]
  }
 ],
 "metadata": {
  "kernelspec": {
   "display_name": "Python 3",
   "language": "python",
   "name": "python3"
  },
  "language_info": {
   "codemirror_mode": {
    "name": "ipython",
    "version": 3
   },
   "file_extension": ".py",
   "mimetype": "text/x-python",
   "name": "python",
   "nbconvert_exporter": "python",
   "pygments_lexer": "ipython3",
   "version": "3.10.13"
  }
 },
 "nbformat": 4,
 "nbformat_minor": 2
}
