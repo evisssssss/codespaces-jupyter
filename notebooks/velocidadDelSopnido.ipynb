{
 "cells": [
  {
   "cell_type": "code",
   "execution_count": 1,
   "metadata": {},
   "outputs": [
    {
     "name": "stdout",
     "output_type": "stream",
     "text": [
      "2.5889212827988337\n"
     ]
    }
   ],
   "source": [
    "distancia=float(input(\"distancia en metros que recorrerá la onda de sonido.\"))\n",
    "velocidad_del_sonido= 343\n",
    "print(distancia/velocidad_del_sonido)"
   ]
  }
 ],
 "metadata": {
  "kernelspec": {
   "display_name": "Python 3",
   "language": "python",
   "name": "python3"
  },
  "language_info": {
   "codemirror_mode": {
    "name": "ipython",
    "version": 3
   },
   "file_extension": ".py",
   "mimetype": "text/x-python",
   "name": "python",
   "nbconvert_exporter": "python",
   "pygments_lexer": "ipython3",
   "version": "3.10.13"
  }
 },
 "nbformat": 4,
 "nbformat_minor": 2
}
